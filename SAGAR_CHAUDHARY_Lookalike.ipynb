{
 "cells": [
  {
   "cell_type": "code",
   "execution_count": 1,
   "id": "8b913e4f-5ae8-493c-9f94-df21046dc1e3",
   "metadata": {},
   "outputs": [],
   "source": [
    "import pandas as pd\n",
    "import numpy as np\n",
    "from sklearn.metrics.pairwise import cosine_similarity\n",
    "\n",
    "# Load datasets\n",
    "customers = pd.read_csv('Customers.csv')\n",
    "products = pd.read_csv('Products.csv')\n",
    "transactions = pd.read_csv('Transactions.csv')\n",
    "\n"
   ]
  },
  {
   "cell_type": "markdown",
   "id": "eed747d6-1ee5-40ef-bcb6-30dfc3f2aaf0",
   "metadata": {},
   "source": [
    "# Preprocess Customer Data"
   ]
  },
  {
   "cell_type": "code",
   "execution_count": 3,
   "id": "18e68c5c-6804-42f2-83da-6cffc6de010f",
   "metadata": {},
   "outputs": [],
   "source": [
    "\n",
    "customers['SignupDate'] = pd.to_datetime(customers['SignupDate'], errors='coerce', dayfirst=True)\n",
    "\n",
    "# Extract additional features from 'SignupDate'\n",
    "customers['SignupMonth'] = customers['SignupDate'].dt.month\n",
    "customers['SignupDay'] = customers['SignupDate'].dt.day\n",
    "customers['SignupYear'] = customers['SignupDate'].dt.year\n",
    "\n"
   ]
  },
  {
   "cell_type": "code",
   "execution_count": 4,
   "id": "99c41915-bc40-4fc3-9b9b-eb5ce07090b6",
   "metadata": {},
   "outputs": [],
   "source": [
    "# Create categorical variables for Region (one-hot encoding)\n",
    "customers = pd.get_dummies(customers, columns=['Region'], drop_first=True)\n",
    "\n",
    "# Merge transaction data with customer information\n",
    "transactions = pd.merge(transactions, customers[['CustomerID']], on='CustomerID', how='left')\n",
    "\n",
    "# Merge product data with transaction data\n",
    "transactions = pd.merge(transactions, products[['ProductID', 'Category']], on='ProductID', how='left')\n",
    "\n",
    "# Aggregate the total quantity and value of each product purchased by each customer\n",
    "customer_transactions = transactions.groupby(['CustomerID', 'Category']).agg(\n",
    "    total_quantity=('Quantity', 'sum'),\n",
    "    total_value=('TotalValue', 'sum')\n",
    ").reset_index()\n",
    "\n"
   ]
  },
  {
   "cell_type": "markdown",
   "id": "45f3b9c3-023f-4307-8dde-a8499ba0cb68",
   "metadata": {},
   "source": [
    "# Pivot the aggregated data to create a customer profile matrix\n"
   ]
  },
  {
   "cell_type": "code",
   "execution_count": 6,
   "id": "d8bfe384-85e3-4b46-95e9-ea0c5eab1a69",
   "metadata": {},
   "outputs": [],
   "source": [
    "customer_profiles = customer_transactions.pivot_table(index='CustomerID', columns='Category', \n",
    "                                                     values=['total_quantity', 'total_value'], \n",
    "                                                     aggfunc='sum', fill_value=0)\n"
   ]
  },
  {
   "cell_type": "markdown",
   "id": "4da78fbc-9a00-4f3d-b90c-3805d4d55869",
   "metadata": {},
   "source": [
    "# Flatten multi-level columns created by pivot_table"
   ]
  },
  {
   "cell_type": "code",
   "execution_count": 8,
   "id": "ebfe4367-3a8e-425a-b623-db59cdda7232",
   "metadata": {},
   "outputs": [],
   "source": [
    "customer_profiles.columns = [f'{col[0]}_{col[1]}' for col in customer_profiles.columns]\n"
   ]
  },
  {
   "cell_type": "markdown",
   "id": "395605de-0359-41b6-a628-2f41ae057b9f",
   "metadata": {},
   "source": [
    "# Handle missing values if any"
   ]
  },
  {
   "cell_type": "code",
   "execution_count": 10,
   "id": "4f40a291-8941-4fc3-9b3b-a081ac45b89f",
   "metadata": {},
   "outputs": [],
   "source": [
    "customer_profiles = customer_profiles.fillna(0)"
   ]
  },
  {
   "cell_type": "markdown",
   "id": "17813562-98fe-44c8-9cc1-92ea9d09122a",
   "metadata": {},
   "source": [
    "# Compute cosine similarity between customers"
   ]
  },
  {
   "cell_type": "code",
   "execution_count": 12,
   "id": "e8d4c5ac-2975-4be9-833a-682b30c54055",
   "metadata": {},
   "outputs": [],
   "source": [
    "similarity_matrix = cosine_similarity(customer_profiles)"
   ]
  },
  {
   "cell_type": "markdown",
   "id": "8588ad66-b728-4a97-a15e-229348689691",
   "metadata": {},
   "source": [
    "# Create a map of customer ID and their top 3 lookalikes with similarity scores\n"
   ]
  },
  {
   "cell_type": "code",
   "execution_count": 14,
   "id": "e7bbd8cb-8268-4620-b3b7-a1fc8ce737f2",
   "metadata": {},
   "outputs": [],
   "source": [
    "lookalike_map = {}\n",
    "for i, cust_id in enumerate(customer_profiles.index[:20]):  # For first 20 customers (C0001 to C0020)\n",
    "    similarity_scores = similarity_matrix[i]\n",
    "    \n",
    "    # Get the indices of top 3 similar customers (excluding self)\n",
    "    top_indices = np.argsort(similarity_scores)[::-1][1:4]  # Exclude the self-similarity at index 0\n",
    "    top_customers = customer_profiles.index[top_indices]\n",
    "    top_scores = similarity_scores[top_indices]\n",
    "    \n",
    "    # Store the result as a list of tuples (customer_id, score)\n",
    "    lookalike_map[cust_id] = [(top_customers[j], round(top_scores[j], 4)) for j in range(3)]\n"
   ]
  },
  {
   "cell_type": "markdown",
   "id": "e2f7cf0d-5a98-4c87-8373-28481fc6126a",
   "metadata": {},
   "source": [
    "# Format the lookalike map into the desired format for CSV"
   ]
  },
  {
   "cell_type": "code",
   "execution_count": 16,
   "id": "16507599-1cf3-4b3a-8d49-6e21e2968b2d",
   "metadata": {},
   "outputs": [],
   "source": [
    "\n",
    "\n",
    "lookalike_list = []\n",
    "for cust_id, lookalikes in lookalike_map.items():                         # Format as [cust_id, score] in list form\n",
    "    lookalike_str = ', '.join([f\"[{cust}, {score}]\" for cust, score in lookalikes])\n",
    "    lookalike_list.append([cust_id, lookalike_str])\n",
    "\n"
   ]
  },
  {
   "cell_type": "markdown",
   "id": "7f0e6942-78d1-483d-91bb-40a017dfadd2",
   "metadata": {},
   "source": [
    "# Create a DataFrame to save as CSV"
   ]
  },
  {
   "cell_type": "code",
   "execution_count": 18,
   "id": "f1968e39-8321-4097-89e0-ac89166a8049",
   "metadata": {},
   "outputs": [
    {
     "name": "stdout",
     "output_type": "stream",
     "text": [
      "Lookalike.csv has been created successfully!\n"
     ]
    }
   ],
   "source": [
    "\n",
    "lookalike_df = pd.DataFrame(lookalike_list, columns=['CustomerID', 'Lookalikes'])\n",
    "lookalike_df.to_csv('SAGAR_CHAUDHARY_Lookalike.csv', index=False)\n",
    "\n",
    "print(\"Lookalike.csv has been created successfully!\")\n"
   ]
  },
  {
   "cell_type": "code",
   "execution_count": null,
   "id": "cab06007-71df-4b43-a366-70f3f30deabe",
   "metadata": {},
   "outputs": [],
   "source": []
  }
 ],
 "metadata": {
  "kernelspec": {
   "display_name": "Python 3 (ipykernel)",
   "language": "python",
   "name": "python3"
  },
  "language_info": {
   "codemirror_mode": {
    "name": "ipython",
    "version": 3
   },
   "file_extension": ".py",
   "mimetype": "text/x-python",
   "name": "python",
   "nbconvert_exporter": "python",
   "pygments_lexer": "ipython3",
   "version": "3.12.4"
  }
 },
 "nbformat": 4,
 "nbformat_minor": 5
}
